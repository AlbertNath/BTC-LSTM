{
  "nbformat": 4,
  "nbformat_minor": 0,
  "metadata": {
    "colab": {
      "provenance": [],
      "gpuType": "T4"
    },
    "kernelspec": {
      "name": "python3",
      "display_name": "Python 3"
    },
    "language_info": {
      "name": "python"
    },
    "accelerator": "GPU"
  },
  "cells": [
    {
      "cell_type": "code",
      "execution_count": 2,
      "metadata": {
        "id": "iAdTar7WsXw1"
      },
      "outputs": [],
      "source": [
        "import numpy as np\n",
        "import pandas as pd\n",
        "import tensorflow as tf\n",
        "import matplotlib as plt\n",
        "import tensorflow.keras as keras"
      ]
    },
    {
      "cell_type": "code",
      "source": [
        "from google.colab import drive\n",
        "drive.mount('/content/drive')"
      ],
      "metadata": {
        "colab": {
          "base_uri": "https://localhost:8080/"
        },
        "id": "hXGjiUkYVDgy",
        "outputId": "d3804d2b-2037-41b3-c95c-743e98cf8bcc"
      },
      "execution_count": 3,
      "outputs": [
        {
          "output_type": "stream",
          "name": "stdout",
          "text": [
            "Mounted at /content/drive\n"
          ]
        }
      ]
    },
    {
      "cell_type": "code",
      "source": [
        "# Cration of time windows\n",
        "def time_window(series, step_length, target_column):\n",
        "  # X for attributes Y for target\n",
        "  X_series = X_test = []\n",
        "  Y_series = Y_test = []\n",
        "  last = len(series) - sequence_length\n",
        "  for i in range(last):\n",
        "    X_series.append(series[i : i + sequence_length])\n",
        "    Y_series.append(series[i + sequence_length, target_column])\n",
        "\n",
        "  #X_test = np.array(X_test.append(series[last : last + sequence_length]))\n",
        "  #Y_test = np.array(Y_test.append(series[last : last + sequence_length, target_column]))\n",
        "  #X_test = np.delete(X_test, target_column, 2) # Drop target from training\n",
        "\n",
        "  X_series = np.array(X_series)\n",
        "  Y_series = np.array(Y_series)\n",
        "  X_series = np.delete(X_series, target_column, 2) # Drop target from training\n",
        "  return X_series, Y_series #, X_test, Y_test"
      ],
      "metadata": {
        "id": "T49ZlNU8dZZL"
      },
      "execution_count": 4,
      "outputs": []
    },
    {
      "cell_type": "code",
      "source": [
        "#train set generado por la función data()\n",
        "train = pd.read_feather('/content/drive/MyDrive/Escuela/data/training_30m_80.feather')\n",
        "train = train[['Open_Norm', 'High_Norm', 'Low_Norm', 'Close_Norm', 'Close_Rate', 'Volume_Log', 'Volume_Qty', 'Taker_Prop', 'Volume_Trade_Norm']]\n",
        "sequence_length = 30\n",
        "train_vals = train.values\n",
        "#X_train = []\n",
        "#Y_train = []\n",
        "#for i in range(len(train_vals) - sequence_length):\n",
        "#    X_train.append(train_vals[i : i + sequence_length])\n",
        "#    Y_train.append(train_vals[i + sequence_length, 3])\n",
        "#\n",
        "#X_train = np.array(X_train)\n",
        "#Y_train = np.array(Y_train)\n",
        "#print(X_train.shape)\n",
        "#print(np.delete(X_train, 3, 2).shape)\n",
        "\n",
        "X_train, Y_train = time_window(train_vals, sequence_length, 3)\n",
        "X_train.shape , Y_train.shape"
      ],
      "metadata": {
        "id": "pGaZyx88sedl",
        "colab": {
          "base_uri": "https://localhost:8080/"
        },
        "outputId": "55ed94ad-8890-4836-e3e3-33dda8e3fbdd"
      },
      "execution_count": 5,
      "outputs": [
        {
          "output_type": "execute_result",
          "data": {
            "text/plain": [
              "((79902, 30, 8), (79902,))"
            ]
          },
          "metadata": {},
          "execution_count": 5
        }
      ]
    },
    {
      "cell_type": "code",
      "source": [
        "#train['Close_Norm'][10:20]\n",
        "train.shape"
      ],
      "metadata": {
        "colab": {
          "base_uri": "https://localhost:8080/"
        },
        "id": "pkzPNSXdYQur",
        "outputId": "3552034f-5a38-4706-eca9-de109c6317f9"
      },
      "execution_count": 6,
      "outputs": [
        {
          "output_type": "execute_result",
          "data": {
            "text/plain": [
              "(79932, 9)"
            ]
          },
          "metadata": {},
          "execution_count": 6
        }
      ]
    },
    {
      "cell_type": "code",
      "source": [
        "#train set generado por la función data()\n",
        "validation = pd.read_feather('/content/drive/MyDrive/Escuela/data/validation_30m_20.feather')\n",
        "validation = validation[['Open_Norm', 'High_Norm', 'Low_Norm', 'Close_Norm', 'Close_Rate', 'Volume_Log', 'Volume_Qty', 'Taker_Prop', 'Volume_Trade_Norm']]\n",
        "#validaton.head()\n",
        "#sequence_length = 30\n",
        "validation_vals = validation.values\n",
        "#X_val = []\n",
        "#Y_val = []\n",
        "#for i in range(len(validation_vals) - sequence_length):\n",
        "#    X_val.append(validation_vals[i : i + sequence_length])\n",
        "#    Y_val.append(validation_vals[i + sequence_length, 3])\n",
        "#\n",
        "#X_val = np.array(X_val)\n",
        "#Y_val = np.array(Y_val)\n",
        "#print(X_val.shape)\n",
        "#print(Y_val.shape)\n",
        "#print(validation.shape)\n",
        "X_val, Y_val = time_window(validation_vals, sequence_length, 3)\n",
        "X_val.shape, Y_val.shape"
      ],
      "metadata": {
        "colab": {
          "base_uri": "https://localhost:8080/"
        },
        "id": "RQNhBiSiKnyB",
        "outputId": "8986553e-d640-441d-bb60-9a813a7ca984"
      },
      "execution_count": 7,
      "outputs": [
        {
          "output_type": "execute_result",
          "data": {
            "text/plain": [
              "((19953, 30, 8), (19953,))"
            ]
          },
          "metadata": {},
          "execution_count": 7
        }
      ]
    },
    {
      "cell_type": "code",
      "source": [
        "'''\n",
        "# Separación input / output (training set) no\n",
        "X_train = train.drop(['Close_Norm'], axis=1)\n",
        "Y_train = train[['Close_Norm']]\n",
        "X_train.shape\n",
        "'''"
      ],
      "metadata": {
        "colab": {
          "base_uri": "https://localhost:8080/"
        },
        "id": "MN-uhfPyL8jC",
        "outputId": "b34892a5-96b9-49e7-bb12-15e4e0a7908f"
      },
      "execution_count": null,
      "outputs": [
        {
          "output_type": "execute_result",
          "data": {
            "text/plain": [
              "(79932, 8)"
            ]
          },
          "metadata": {},
          "execution_count": 23
        }
      ]
    },
    {
      "cell_type": "code",
      "source": [
        "'''\n",
        "# Separación input / output (validation set) no\n",
        "X_validation = validation.drop(['Close_Norm'], axis=1)\n",
        "Y_validation = validation[['Close_Norm']]\n",
        "Y_validation\n",
        "'''"
      ],
      "metadata": {
        "colab": {
          "base_uri": "https://localhost:8080/",
          "height": 424
        },
        "id": "A30uXMBjNjgN",
        "outputId": "494875e8-68b8-4e02-b7c1-4e659da4015f"
      },
      "execution_count": null,
      "outputs": [
        {
          "output_type": "execute_result",
          "data": {
            "text/plain": [
              "       Close_Norm\n",
              "79932    0.395453\n",
              "79933    0.393314\n",
              "79934    0.394558\n",
              "79935    0.388900\n",
              "79936    0.390239\n",
              "...           ...\n",
              "99910    1.048934\n",
              "99911    1.044062\n",
              "99912    1.055422\n",
              "99913    1.052053\n",
              "99914    1.059593\n",
              "\n",
              "[19983 rows x 1 columns]"
            ],
            "text/html": [
              "\n",
              "  <div id=\"df-c5d0e178-2493-49f0-ac5e-1ffa5b593cf4\" class=\"colab-df-container\">\n",
              "    <div>\n",
              "<style scoped>\n",
              "    .dataframe tbody tr th:only-of-type {\n",
              "        vertical-align: middle;\n",
              "    }\n",
              "\n",
              "    .dataframe tbody tr th {\n",
              "        vertical-align: top;\n",
              "    }\n",
              "\n",
              "    .dataframe thead th {\n",
              "        text-align: right;\n",
              "    }\n",
              "</style>\n",
              "<table border=\"1\" class=\"dataframe\">\n",
              "  <thead>\n",
              "    <tr style=\"text-align: right;\">\n",
              "      <th></th>\n",
              "      <th>Close_Norm</th>\n",
              "    </tr>\n",
              "  </thead>\n",
              "  <tbody>\n",
              "    <tr>\n",
              "      <th>79932</th>\n",
              "      <td>0.395453</td>\n",
              "    </tr>\n",
              "    <tr>\n",
              "      <th>79933</th>\n",
              "      <td>0.393314</td>\n",
              "    </tr>\n",
              "    <tr>\n",
              "      <th>79934</th>\n",
              "      <td>0.394558</td>\n",
              "    </tr>\n",
              "    <tr>\n",
              "      <th>79935</th>\n",
              "      <td>0.388900</td>\n",
              "    </tr>\n",
              "    <tr>\n",
              "      <th>79936</th>\n",
              "      <td>0.390239</td>\n",
              "    </tr>\n",
              "    <tr>\n",
              "      <th>...</th>\n",
              "      <td>...</td>\n",
              "    </tr>\n",
              "    <tr>\n",
              "      <th>99910</th>\n",
              "      <td>1.048934</td>\n",
              "    </tr>\n",
              "    <tr>\n",
              "      <th>99911</th>\n",
              "      <td>1.044062</td>\n",
              "    </tr>\n",
              "    <tr>\n",
              "      <th>99912</th>\n",
              "      <td>1.055422</td>\n",
              "    </tr>\n",
              "    <tr>\n",
              "      <th>99913</th>\n",
              "      <td>1.052053</td>\n",
              "    </tr>\n",
              "    <tr>\n",
              "      <th>99914</th>\n",
              "      <td>1.059593</td>\n",
              "    </tr>\n",
              "  </tbody>\n",
              "</table>\n",
              "<p>19983 rows × 1 columns</p>\n",
              "</div>\n",
              "    <div class=\"colab-df-buttons\">\n",
              "\n",
              "  <div class=\"colab-df-container\">\n",
              "    <button class=\"colab-df-convert\" onclick=\"convertToInteractive('df-c5d0e178-2493-49f0-ac5e-1ffa5b593cf4')\"\n",
              "            title=\"Convert this dataframe to an interactive table.\"\n",
              "            style=\"display:none;\">\n",
              "\n",
              "  <svg xmlns=\"http://www.w3.org/2000/svg\" height=\"24px\" viewBox=\"0 -960 960 960\">\n",
              "    <path d=\"M120-120v-720h720v720H120Zm60-500h600v-160H180v160Zm220 220h160v-160H400v160Zm0 220h160v-160H400v160ZM180-400h160v-160H180v160Zm440 0h160v-160H620v160ZM180-180h160v-160H180v160Zm440 0h160v-160H620v160Z\"/>\n",
              "  </svg>\n",
              "    </button>\n",
              "\n",
              "  <style>\n",
              "    .colab-df-container {\n",
              "      display:flex;\n",
              "      gap: 12px;\n",
              "    }\n",
              "\n",
              "    .colab-df-convert {\n",
              "      background-color: #E8F0FE;\n",
              "      border: none;\n",
              "      border-radius: 50%;\n",
              "      cursor: pointer;\n",
              "      display: none;\n",
              "      fill: #1967D2;\n",
              "      height: 32px;\n",
              "      padding: 0 0 0 0;\n",
              "      width: 32px;\n",
              "    }\n",
              "\n",
              "    .colab-df-convert:hover {\n",
              "      background-color: #E2EBFA;\n",
              "      box-shadow: 0px 1px 2px rgba(60, 64, 67, 0.3), 0px 1px 3px 1px rgba(60, 64, 67, 0.15);\n",
              "      fill: #174EA6;\n",
              "    }\n",
              "\n",
              "    .colab-df-buttons div {\n",
              "      margin-bottom: 4px;\n",
              "    }\n",
              "\n",
              "    [theme=dark] .colab-df-convert {\n",
              "      background-color: #3B4455;\n",
              "      fill: #D2E3FC;\n",
              "    }\n",
              "\n",
              "    [theme=dark] .colab-df-convert:hover {\n",
              "      background-color: #434B5C;\n",
              "      box-shadow: 0px 1px 3px 1px rgba(0, 0, 0, 0.15);\n",
              "      filter: drop-shadow(0px 1px 2px rgba(0, 0, 0, 0.3));\n",
              "      fill: #FFFFFF;\n",
              "    }\n",
              "  </style>\n",
              "\n",
              "    <script>\n",
              "      const buttonEl =\n",
              "        document.querySelector('#df-c5d0e178-2493-49f0-ac5e-1ffa5b593cf4 button.colab-df-convert');\n",
              "      buttonEl.style.display =\n",
              "        google.colab.kernel.accessAllowed ? 'block' : 'none';\n",
              "\n",
              "      async function convertToInteractive(key) {\n",
              "        const element = document.querySelector('#df-c5d0e178-2493-49f0-ac5e-1ffa5b593cf4');\n",
              "        const dataTable =\n",
              "          await google.colab.kernel.invokeFunction('convertToInteractive',\n",
              "                                                    [key], {});\n",
              "        if (!dataTable) return;\n",
              "\n",
              "        const docLinkHtml = 'Like what you see? Visit the ' +\n",
              "          '<a target=\"_blank\" href=https://colab.research.google.com/notebooks/data_table.ipynb>data table notebook</a>'\n",
              "          + ' to learn more about interactive tables.';\n",
              "        element.innerHTML = '';\n",
              "        dataTable['output_type'] = 'display_data';\n",
              "        await google.colab.output.renderOutput(dataTable, element);\n",
              "        const docLink = document.createElement('div');\n",
              "        docLink.innerHTML = docLinkHtml;\n",
              "        element.appendChild(docLink);\n",
              "      }\n",
              "    </script>\n",
              "  </div>\n",
              "\n",
              "\n",
              "<div id=\"df-f64a06ec-dd23-4ce2-9f9b-511608fad4bb\">\n",
              "  <button class=\"colab-df-quickchart\" onclick=\"quickchart('df-f64a06ec-dd23-4ce2-9f9b-511608fad4bb')\"\n",
              "            title=\"Suggest charts.\"\n",
              "            style=\"display:none;\">\n",
              "\n",
              "<svg xmlns=\"http://www.w3.org/2000/svg\" height=\"24px\"viewBox=\"0 0 24 24\"\n",
              "     width=\"24px\">\n",
              "    <g>\n",
              "        <path d=\"M19 3H5c-1.1 0-2 .9-2 2v14c0 1.1.9 2 2 2h14c1.1 0 2-.9 2-2V5c0-1.1-.9-2-2-2zM9 17H7v-7h2v7zm4 0h-2V7h2v10zm4 0h-2v-4h2v4z\"/>\n",
              "    </g>\n",
              "</svg>\n",
              "  </button>\n",
              "\n",
              "<style>\n",
              "  .colab-df-quickchart {\n",
              "      --bg-color: #E8F0FE;\n",
              "      --fill-color: #1967D2;\n",
              "      --hover-bg-color: #E2EBFA;\n",
              "      --hover-fill-color: #174EA6;\n",
              "      --disabled-fill-color: #AAA;\n",
              "      --disabled-bg-color: #DDD;\n",
              "  }\n",
              "\n",
              "  [theme=dark] .colab-df-quickchart {\n",
              "      --bg-color: #3B4455;\n",
              "      --fill-color: #D2E3FC;\n",
              "      --hover-bg-color: #434B5C;\n",
              "      --hover-fill-color: #FFFFFF;\n",
              "      --disabled-bg-color: #3B4455;\n",
              "      --disabled-fill-color: #666;\n",
              "  }\n",
              "\n",
              "  .colab-df-quickchart {\n",
              "    background-color: var(--bg-color);\n",
              "    border: none;\n",
              "    border-radius: 50%;\n",
              "    cursor: pointer;\n",
              "    display: none;\n",
              "    fill: var(--fill-color);\n",
              "    height: 32px;\n",
              "    padding: 0;\n",
              "    width: 32px;\n",
              "  }\n",
              "\n",
              "  .colab-df-quickchart:hover {\n",
              "    background-color: var(--hover-bg-color);\n",
              "    box-shadow: 0 1px 2px rgba(60, 64, 67, 0.3), 0 1px 3px 1px rgba(60, 64, 67, 0.15);\n",
              "    fill: var(--button-hover-fill-color);\n",
              "  }\n",
              "\n",
              "  .colab-df-quickchart-complete:disabled,\n",
              "  .colab-df-quickchart-complete:disabled:hover {\n",
              "    background-color: var(--disabled-bg-color);\n",
              "    fill: var(--disabled-fill-color);\n",
              "    box-shadow: none;\n",
              "  }\n",
              "\n",
              "  .colab-df-spinner {\n",
              "    border: 2px solid var(--fill-color);\n",
              "    border-color: transparent;\n",
              "    border-bottom-color: var(--fill-color);\n",
              "    animation:\n",
              "      spin 1s steps(1) infinite;\n",
              "  }\n",
              "\n",
              "  @keyframes spin {\n",
              "    0% {\n",
              "      border-color: transparent;\n",
              "      border-bottom-color: var(--fill-color);\n",
              "      border-left-color: var(--fill-color);\n",
              "    }\n",
              "    20% {\n",
              "      border-color: transparent;\n",
              "      border-left-color: var(--fill-color);\n",
              "      border-top-color: var(--fill-color);\n",
              "    }\n",
              "    30% {\n",
              "      border-color: transparent;\n",
              "      border-left-color: var(--fill-color);\n",
              "      border-top-color: var(--fill-color);\n",
              "      border-right-color: var(--fill-color);\n",
              "    }\n",
              "    40% {\n",
              "      border-color: transparent;\n",
              "      border-right-color: var(--fill-color);\n",
              "      border-top-color: var(--fill-color);\n",
              "    }\n",
              "    60% {\n",
              "      border-color: transparent;\n",
              "      border-right-color: var(--fill-color);\n",
              "    }\n",
              "    80% {\n",
              "      border-color: transparent;\n",
              "      border-right-color: var(--fill-color);\n",
              "      border-bottom-color: var(--fill-color);\n",
              "    }\n",
              "    90% {\n",
              "      border-color: transparent;\n",
              "      border-bottom-color: var(--fill-color);\n",
              "    }\n",
              "  }\n",
              "</style>\n",
              "\n",
              "  <script>\n",
              "    async function quickchart(key) {\n",
              "      const quickchartButtonEl =\n",
              "        document.querySelector('#' + key + ' button');\n",
              "      quickchartButtonEl.disabled = true;  // To prevent multiple clicks.\n",
              "      quickchartButtonEl.classList.add('colab-df-spinner');\n",
              "      try {\n",
              "        const charts = await google.colab.kernel.invokeFunction(\n",
              "            'suggestCharts', [key], {});\n",
              "      } catch (error) {\n",
              "        console.error('Error during call to suggestCharts:', error);\n",
              "      }\n",
              "      quickchartButtonEl.classList.remove('colab-df-spinner');\n",
              "      quickchartButtonEl.classList.add('colab-df-quickchart-complete');\n",
              "    }\n",
              "    (() => {\n",
              "      let quickchartButtonEl =\n",
              "        document.querySelector('#df-f64a06ec-dd23-4ce2-9f9b-511608fad4bb button');\n",
              "      quickchartButtonEl.style.display =\n",
              "        google.colab.kernel.accessAllowed ? 'block' : 'none';\n",
              "    })();\n",
              "  </script>\n",
              "</div>\n",
              "    </div>\n",
              "  </div>\n"
            ]
          },
          "metadata": {},
          "execution_count": 24
        }
      ]
    },
    {
      "cell_type": "code",
      "source": [
        "# Modelo prueba v1\n",
        "model = keras.Sequential()\n",
        "model.add(keras.layers.LSTM(50, input_shape=(X_train.shape[1], X_train.shape[2])))\n",
        "model.add(keras.layers.Dense(1))\n",
        "\n",
        "# Compilación\n",
        "\n",
        "# Optimizador (propuesta): SGD\n",
        "#optimizer = keras.optimizers.SGD(learning_rate=1e-6, momentum=0.9)\n",
        "model.compile(optimizer='adam', loss=keras.losses.Huber(), metrics=['mae'])\n",
        "history = model.fit(X_train, Y_train, epochs=10, batch_size=32, validation_data=(X_val, Y_val))"
      ],
      "metadata": {
        "colab": {
          "base_uri": "https://localhost:8080/"
        },
        "id": "yUsDyT0pl4TY",
        "outputId": "ae73c179-faef-47eb-cbef-78dea12c2dd7"
      },
      "execution_count": 7,
      "outputs": [
        {
          "output_type": "stream",
          "name": "stdout",
          "text": [
            "Epoch 1/10\n",
            "2497/2497 [==============================] - 23s 6ms/step - loss: 8.3795e-04 - mae: 0.0116 - val_loss: 3.2974e-05 - val_mae: 0.0048\n",
            "Epoch 2/10\n",
            "2497/2497 [==============================] - 19s 8ms/step - loss: 3.7438e-05 - mae: 0.0055 - val_loss: 2.8319e-05 - val_mae: 0.0043\n",
            "Epoch 3/10\n",
            "2497/2497 [==============================] - 18s 7ms/step - loss: 3.4238e-05 - mae: 0.0054 - val_loss: 2.5282e-05 - val_mae: 0.0040\n",
            "Epoch 4/10\n",
            "2497/2497 [==============================] - 18s 7ms/step - loss: 2.9747e-05 - mae: 0.0049 - val_loss: 2.5057e-05 - val_mae: 0.0040\n",
            "Epoch 5/10\n",
            "2497/2497 [==============================] - 16s 6ms/step - loss: 2.8045e-05 - mae: 0.0047 - val_loss: 2.6418e-05 - val_mae: 0.0048\n",
            "Epoch 6/10\n",
            "2497/2497 [==============================] - 18s 7ms/step - loss: 2.5732e-05 - mae: 0.0045 - val_loss: 2.7370e-05 - val_mae: 0.0048\n",
            "Epoch 7/10\n",
            "2497/2497 [==============================] - 23s 9ms/step - loss: 2.5291e-05 - mae: 0.0045 - val_loss: 2.6660e-05 - val_mae: 0.0048\n",
            "Epoch 8/10\n",
            "2497/2497 [==============================] - 16s 7ms/step - loss: 2.4389e-05 - mae: 0.0044 - val_loss: 2.6004e-05 - val_mae: 0.0048\n",
            "Epoch 9/10\n",
            "2497/2497 [==============================] - 16s 6ms/step - loss: 2.4280e-05 - mae: 0.0043 - val_loss: 2.7036e-05 - val_mae: 0.0048\n",
            "Epoch 10/10\n",
            "2497/2497 [==============================] - 15s 6ms/step - loss: 2.3592e-05 - mae: 0.0043 - val_loss: 2.1766e-05 - val_mae: 0.0038\n"
          ]
        }
      ]
    },
    {
      "cell_type": "code",
      "source": [
        "plt.pyplot.plot(history.history['loss'], label='train')\n",
        "plt.pyplot.plot(history.history['val_loss'], label='validation')\n",
        "plt.pyplot.legend()\n",
        "plt.pyplot.show()"
      ],
      "metadata": {
        "colab": {
          "base_uri": "https://localhost:8080/",
          "height": 430
        },
        "id": "tns7PuHBwqR9",
        "outputId": "4a57848d-401d-4766-b30c-1a755ac94081"
      },
      "execution_count": null,
      "outputs": [
        {
          "output_type": "display_data",
          "data": {
            "text/plain": [
              "<Figure size 640x480 with 1 Axes>"
            ],
            "image/png": "[encoded data removed]"
          },
          "metadata": {}
        }
      ]
    },
    {
      "cell_type": "markdown",
      "source": [
        "## Optimización de hiperparámetros"
      ],
      "metadata": {
        "id": "CdpP9zxGQmiH"
      }
    },
    {
      "cell_type": "code",
      "source": [
        "pip install scikeras"
      ],
      "metadata": {
        "colab": {
          "base_uri": "https://localhost:8080/"
        },
        "id": "ICmqQwrqIrrw",
        "outputId": "31fc4022-f4c8-41d7-f0c3-504c4c7cf092"
      },
      "execution_count": 8,
      "outputs": [
        {
          "output_type": "stream",
          "name": "stdout",
          "text": [
            "Collecting scikeras\n",
            "  Downloading scikeras-0.12.0-py3-none-any.whl (27 kB)\n",
            "Requirement already satisfied: packaging>=0.21 in /usr/local/lib/python3.10/dist-packages (from scikeras) (23.2)\n",
            "Requirement already satisfied: scikit-learn>=1.0.0 in /usr/local/lib/python3.10/dist-packages (from scikeras) (1.2.2)\n",
            "Requirement already satisfied: numpy>=1.17.3 in /usr/local/lib/python3.10/dist-packages (from scikit-learn>=1.0.0->scikeras) (1.23.5)\n",
            "Requirement already satisfied: scipy>=1.3.2 in /usr/local/lib/python3.10/dist-packages (from scikit-learn>=1.0.0->scikeras) (1.11.3)\n",
            "Requirement already satisfied: joblib>=1.1.1 in /usr/local/lib/python3.10/dist-packages (from scikit-learn>=1.0.0->scikeras) (1.3.2)\n",
            "Requirement already satisfied: threadpoolctl>=2.0.0 in /usr/local/lib/python3.10/dist-packages (from scikit-learn>=1.0.0->scikeras) (3.2.0)\n",
            "Installing collected packages: scikeras\n",
            "Successfully installed scikeras-0.12.0\n"
          ]
        }
      ]
    },
    {
      "cell_type": "code",
      "source": [
        "from scikeras.wrappers import KerasRegressor\n",
        "from sklearn.model_selection import GridSearchCV"
      ],
      "metadata": {
        "id": "gfao_7fUYQhE"
      },
      "execution_count": 9,
      "outputs": []
    },
    {
      "cell_type": "code",
      "source": [
        "seed = 7\n",
        "tf.random.set_seed(seed)"
      ],
      "metadata": {
        "id": "FmhjTLikXZgx"
      },
      "execution_count": 10,
      "outputs": []
    },
    {
      "cell_type": "code",
      "source": [
        "# Creamos los conjuntos para ajustar los hiperparametros\n",
        "n = int(X_val.shape[0] * 0.1)\n",
        "number_of_rows = validation_vals.shape[0]\n",
        "random_indices = np.random.choice(number_of_rows, size=n, replace=False)\n",
        "validation_vals_hiper = validation_vals[random_indices, :]\n",
        "X_val_hiper, Y_val_hiper = time_window(validation_vals_hiper, sequence_length, 3)\n",
        "X_val_hiper.shape, Y_val_hiper.shape"
      ],
      "metadata": {
        "colab": {
          "base_uri": "https://localhost:8080/"
        },
        "id": "CSR0thTI4jBJ",
        "outputId": "696f735b-e698-4601-cd3d-35538abadec5"
      },
      "execution_count": 11,
      "outputs": [
        {
          "output_type": "execute_result",
          "data": {
            "text/plain": [
              "((1965, 30, 8), (1965,))"
            ]
          },
          "metadata": {},
          "execution_count": 11
        }
      ]
    },
    {
      "cell_type": "markdown",
      "source": [
        "#  batch size y training epochs"
      ],
      "metadata": {
        "id": "5j1pSnVNTIfT"
      }
    },
    {
      "cell_type": "code",
      "source": [
        "# Function para crear el modelo, para KerasRegressor\n",
        "def create_model():\n",
        " # Crea el modelo\n",
        "  model = keras.Sequential()\n",
        "  model.add(keras.layers.LSTM(50, input_shape=(X_train.shape[1], X_train.shape[2])))\n",
        "  model.add(keras.layers.Dense(1))\n",
        "  # Compila el modelo\n",
        "  model.compile(optimizer='adam', loss=keras.losses.Huber(), metrics=['mae'])\n",
        "  return model\n"
      ],
      "metadata": {
        "id": "2q3MJyqfWOu8"
      },
      "execution_count": 21,
      "outputs": []
    },
    {
      "cell_type": "code",
      "source": [
        "# creación del modelo para optimizar\n",
        "model = KerasRegressor(model=create_model, verbose=0)\n",
        "# define the grid search parameters\n",
        "batch_size = [10, 20]\n",
        "epochs = [10, 50]\n",
        "param_grid = dict(batch_size=batch_size, epochs=epochs)\n",
        "grid = GridSearchCV(estimator=model, param_grid=param_grid, n_jobs=-1, cv=3, error_score='raise')\n",
        "# buscamos los mejores\n",
        "grid_result = grid.fit(X_val_hiper, Y_val_hiper)\n",
        "# resultados\n",
        "print(\"Best: %f using %s\" % (grid_result.best_score_, grid_result.best_params_))\n",
        "means = grid_result.cv_results_['mean_test_score']\n",
        "stds = grid_result.cv_results_['std_test_score']\n",
        "params = grid_result.cv_results_['params']\n",
        "for mean, stdev, param in zip(means, stds, params):\n",
        "    print(\"%f (%f) with: %r\" % (mean, stdev, param))"
      ],
      "metadata": {
        "id": "z49zhtAGYb1I",
        "colab": {
          "base_uri": "https://localhost:8080/"
        },
        "outputId": "3607c7a9-47b6-4f50-b088-045fbd1798db"
      },
      "execution_count": 22,
      "outputs": [
        {
          "output_type": "stream",
          "name": "stdout",
          "text": [
            "Best: -0.024404 using {'batch_size': 20, 'epochs': 10}\n",
            "-0.044197 (0.028164) with: {'batch_size': 10, 'epochs': 10}\n",
            "-0.055385 (0.014970) with: {'batch_size': 10, 'epochs': 50}\n",
            "-0.024404 (0.009132) with: {'batch_size': 20, 'epochs': 10}\n",
            "-0.047071 (0.024280) with: {'batch_size': 20, 'epochs': 50}\n"
          ]
        }
      ]
    },
    {
      "cell_type": "markdown",
      "source": [
        "# Algoritmo de optimización"
      ],
      "metadata": {
        "id": "OB_25JesTglX"
      }
    },
    {
      "cell_type": "code",
      "source": [
        "# funcion sin compile\n",
        "def create_model_algor():\n",
        " # Crea el modelo\n",
        "  model = keras.Sequential()\n",
        "  model.add(keras.layers.LSTM(50, input_shape=(X_train.shape[1], X_train.shape[2])))\n",
        "  model.add(keras.layers.Dense(1))\n",
        "  return model\n"
      ],
      "metadata": {
        "id": "sVgjhqttauEr"
      },
      "execution_count": 13,
      "outputs": []
    },
    {
      "cell_type": "code",
      "source": [
        "model = KerasRegressor(model=create_model_algor, loss=\"binary_crossentropy\", epochs=100, batch_size=10, verbose=0)\n",
        "# define the grid search parameters : https://deepdatascience.wordpress.com/2016/11/18/which-lstm-optimizer-to-use/\n",
        "optimizer = ['SGD', 'RMSprop', 'Adadelta', 'Adam']\n",
        "param_grid = dict(optimizer=optimizer)\n",
        "grid = GridSearchCV(estimator=model, param_grid=param_grid, n_jobs=-1, cv=3)\n",
        "# buscar el mejor\n",
        "grid_result = grid.fit(X_val_hiper, Y_val_hiper)\n",
        "# summarize results\n",
        "print(\"Best: %f using %s\" % (grid_result.best_score_, grid_result.best_params_))\n",
        "means = grid_result.cv_results_['mean_test_score']\n",
        "stds = grid_result.cv_results_['std_test_score']\n",
        "params = grid_result.cv_results_['params']\n",
        "for mean, stdev, param in zip(means, stds, params):\n",
        "    print(\"%f (%f) with: %r\" % (mean, stdev, param))\n"
      ],
      "metadata": {
        "id": "6D6WimANTmFR",
        "colab": {
          "base_uri": "https://localhost:8080/"
        },
        "outputId": "76190c9f-eeb5-49dd-a3e7-3273002efa2d"
      },
      "execution_count": 24,
      "outputs": [
        {
          "output_type": "stream",
          "name": "stdout",
          "text": [
            "Best: -5.259893 using {'optimizer': 'Adam'}\n",
            "-5.780825 (8.116922) with: {'optimizer': 'SGD'}\n",
            "-11.817140 (8.360487) with: {'optimizer': 'RMSprop'}\n",
            "-21.188253 (6.563254) with: {'optimizer': 'Adadelta'}\n",
            "-5.259893 (7.329426) with: {'optimizer': 'Adam'}\n"
          ]
        }
      ]
    },
    {
      "cell_type": "markdown",
      "source": [
        "# Learning Rate y Momentum"
      ],
      "metadata": {
        "id": "M8G1LFCMZfdk"
      }
    },
    {
      "cell_type": "code",
      "source": [
        "# create model\n",
        "model = KerasRegressor(model=create_model_algor, loss=\"binary_crossentropy\", optimizer=\"Adam\", epochs=100, batch_size=10, verbose=0)\n",
        "# define the grid search parameters, 0.1, 0.2, 0.3.\n",
        "learn_rate = [0.001, 0.01]\n",
        "momentum = [0.0, 0.2, 0.4, 0.6, 0.8, 0.9]\n",
        "param_grid = dict(optimizer__learning_rate=learn_rate)#, optimizer__momentum=momentum\n",
        "grid = GridSearchCV(estimator=model, param_grid=param_grid, n_jobs=-1, cv=3)\n",
        "grid_result = grid.fit(X_val_hiper, Y_val_hiper)\n",
        "# summarize results\n",
        "print(\"Best: %f using %s\" % (grid_result.best_score_, grid_result.best_params_))\n",
        "means = grid_result.cv_results_['mean_test_score']\n",
        "stds = grid_result.cv_results_['std_test_score']\n",
        "params = grid_result.cv_results_['params']\n",
        "for mean, stdev, param in zip(means, stds, params):\n",
        "    print(\"%f (%f) with: %r\" % (mean, stdev, param))"
      ],
      "metadata": {
        "id": "pb_mA3FxZecd",
        "colab": {
          "base_uri": "https://localhost:8080/"
        },
        "outputId": "dfb2de04-3a97-4216-babe-2653f3bac2c7"
      },
      "execution_count": 14,
      "outputs": [
        {
          "output_type": "stream",
          "name": "stdout",
          "text": [
            "Best: -7.303355 using {'optimizer__learning_rate': 0.001}\n",
            "-7.303355 (10.234339) with: {'optimizer__learning_rate': 0.001}\n",
            "-225.050427 (305.499377) with: {'optimizer__learning_rate': 0.01}\n"
          ]
        }
      ]
    },
    {
      "cell_type": "markdown",
      "source": [
        "# Network Weight Initialization"
      ],
      "metadata": {
        "id": "Cb3LQRrsb6-t"
      }
    },
    {
      "cell_type": "code",
      "source": [
        "# Function para crear el modelo, para KerasRegressor\n",
        "def create_model_weight(init_mode='uniform'):\n",
        " # Crea el modelo\n",
        "  model = keras.Sequential()\n",
        "  model.add(keras.layers.LSTM(50, input_shape=(X_train.shape[1], X_train.shape[2]), kernel_initializer=init_mode))\n",
        "  model.add(keras.layers.Dense(1))\n",
        "  # Compila el modelo\n",
        "  model.compile(optimizer='adam', loss=keras.losses.Huber(), metrics=['mae'])\n",
        "  return model\n"
      ],
      "metadata": {
        "id": "TUxhUF_dhH0r"
      },
      "execution_count": 18,
      "outputs": []
    },
    {
      "cell_type": "code",
      "source": [
        "# create model\n",
        "model = KerasRegressor(model=create_model_weight, epochs=100, batch_size=10, verbose=0)\n",
        "# define the grid search parameters 'uniform', 'lecun_uniform', 'normal', 'zero', 'glorot_normal', 'glorot_uniform', 'he_normal', 'he_uniform'\n",
        "init_mode = ['uniform', 'normal']\n",
        "param_grid = dict(model__init_mode=init_mode)\n",
        "grid = GridSearchCV(estimator=model, param_grid=param_grid, n_jobs=-1, cv=3)\n",
        "grid_result = grid.fit(X_val_hiper, Y_val_hiper)\n",
        "# summarize results\n",
        "print(\"Best: %f using %s\" % (grid_result.best_score_, grid_result.best_params_))\n",
        "means = grid_result.cv_results_['mean_test_score']\n",
        "stds = grid_result.cv_results_['std_test_score']\n",
        "params = grid_result.cv_results_['params']\n",
        "for mean, stdev, param in zip(means, stds, params):\n",
        "    print(\"%f (%f) with: %r\" % (mean, stdev, param))"
      ],
      "metadata": {
        "id": "c2CosckCcS_F",
        "colab": {
          "base_uri": "https://localhost:8080/"
        },
        "outputId": "62b21b37-1d82-4fed-bc1f-43806a7bc3c2"
      },
      "execution_count": 19,
      "outputs": [
        {
          "output_type": "stream",
          "name": "stderr",
          "text": [
            "/usr/local/lib/python3.10/dist-packages/joblib/externals/loky/process_executor.py:752: UserWarning: A worker stopped while some jobs were given to the executor. This can be caused by a too short worker timeout or by a memory leak.\n",
            "  warnings.warn(\n"
          ]
        },
        {
          "output_type": "stream",
          "name": "stdout",
          "text": [
            "Best: -0.043960 using {'model__init_mode': 'uniform'}\n",
            "-0.043960 (0.028148) with: {'model__init_mode': 'uniform'}\n",
            "-0.071044 (0.058050) with: {'model__init_mode': 'normal'}\n"
          ]
        }
      ]
    },
    {
      "cell_type": "markdown",
      "source": [
        "# Number of Neurons in the Hidden Layer"
      ],
      "metadata": {
        "id": "oQuQKUk5eYJf"
      }
    },
    {
      "cell_type": "code",
      "source": [
        "# Function para crear el modelo, para KerasRegressor\n",
        "def create_model_weight(neurons):\n",
        " # Crea el modelo\n",
        "  model = keras.Sequential()\n",
        "  model.add(keras.layers.LSTM(neurons, input_shape=(X_train.shape[1], X_train.shape[2])))\n",
        "  model.add(keras.layers.Dense(1))\n",
        "  # Compila el modelo\n",
        "  model.compile(optimizer='adam', loss=keras.losses.Huber(), metrics=['mae'])\n",
        "  return model\n"
      ],
      "metadata": {
        "id": "uptrPa2IY_2e"
      },
      "execution_count": 20,
      "outputs": []
    },
    {
      "cell_type": "code",
      "source": [
        "# create model\n",
        "model = KerasRegressor(model=create_model_weight, epochs=100, batch_size=10, verbose=0)\n",
        "# define the grid search parameters , 10, 15, 20, 25, 30\n",
        "neurons = [25, 50]\n",
        "param_grid = dict(model__neurons=neurons)\n",
        "grid = GridSearchCV(estimator=model, param_grid=param_grid, n_jobs=-1, cv=3)\n",
        "grid_result = grid.fit(X_val_hiper, Y_val_hiper)\n",
        "# summarize results\n",
        "print(\"Best: %f using %s\" % (grid_result.best_score_, grid_result.best_params_))\n",
        "means = grid_result.cv_results_['mean_test_score']\n",
        "stds = grid_result.cv_results_['std_test_score']\n",
        "params = grid_result.cv_results_['params']\n",
        "for mean, stdev, param in zip(means, stds, params):\n",
        "    print(\"%f (%f) with: %r\" % (mean, stdev, param))"
      ],
      "metadata": {
        "id": "MF7gBqSbecx1",
        "colab": {
          "base_uri": "https://localhost:8080/"
        },
        "outputId": "e3f5e424-4cb1-4e4d-c1da-1a52991d2d93"
      },
      "execution_count": 22,
      "outputs": [
        {
          "output_type": "stream",
          "name": "stdout",
          "text": [
            "Best: -0.051409 using {'model__neurons': 25}\n",
            "-0.051409 (0.019908) with: {'model__neurons': 25}\n",
            "-0.096762 (0.051887) with: {'model__neurons': 50}\n"
          ]
        }
      ]
    }
  ]
}