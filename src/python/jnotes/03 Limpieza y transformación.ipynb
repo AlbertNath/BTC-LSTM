{
 "cells": [
  {
   "cell_type": "code",
   "execution_count": null,
   "metadata": {},
   "outputs": [],
   "source": [
    "# Ajustar ruta a la raiz del proyecto\n",
    "import re\n",
    "import os\n",
    "if not 'id_0123456789876543210' in locals():\n",
    "    _rootlevel = 3\n",
    "    _oldwd = re.sub(r'\\\\', '/', os.getcwd())\n",
    "    _spdirs = _oldwd.split('/')\n",
    "    _newwd = '/'.join(_spdirs[:(len(_spdirs)-_rootlevel)])\n",
    "    os.chdir(_newwd)\n",
    "    id_0123456789876543210 = None\n",
    "print(f'Old WD: {_oldwd}')\n",
    "print(f'New WD: {_newwd}')"
   ]
  },
  {
   "cell_type": "markdown",
   "metadata": {},
   "source": [
    "# Limpieza de Datos"
   ]
  }
 ],
 "metadata": {
  "language_info": {
   "name": "python"
  }
 },
 "nbformat": 4,
 "nbformat_minor": 2
}
